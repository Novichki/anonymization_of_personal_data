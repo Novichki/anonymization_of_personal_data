{
  "nbformat": 4,
  "nbformat_minor": 0,
  "metadata": {
    "colab": {
      "name": "Recognition.ipynb",
      "provenance": [],
      "collapsed_sections": [],
      "mount_file_id": "1hwVprzjmLQeACaTjh_HK8RZhkzQjl-Fp",
      "authorship_tag": "ABX9TyP98GXZlxagBEkpPqx+PsYY",
      "include_colab_link": true
    },
    "kernelspec": {
      "name": "python3",
      "display_name": "Python 3"
    },
    "language_info": {
      "name": "python"
    }
  },
  "cells": [
    {
      "cell_type": "markdown",
      "metadata": {
        "id": "view-in-github",
        "colab_type": "text"
      },
      "source": [
        "<a href=\"https://colab.research.google.com/github/Novichki/anonymization_of_personal_data/blob/main/Recognition.ipynb\" target=\"_parent\"><img src=\"https://colab.research.google.com/assets/colab-badge.svg\" alt=\"Open In Colab\"/></a>"
      ]
    },
    {
      "cell_type": "markdown",
      "metadata": {
        "id": "nwav8egX2NKs"
      },
      "source": [
        "**Работа с файлами в формате jpg/jpeg**"
      ]
    },
    {
      "cell_type": "code",
      "metadata": {
        "id": "rXEPHMCZ4BlH"
      },
      "source": [
        "! apt install tesseract-ocr\n",
        "! apt install libtesseract-dev\n",
        "! apt install  tesseract-ocr-[rus]\n",
        "! pip install Pillow\n",
        "! pip install pytesseract\n",
        "! pip install pypandoc\n",
        "!pip install python-docx\n",
        "! pip install natasha\n",
        "! pip install pymorphy2[fast]"
      ],
      "execution_count": null,
      "outputs": []
    },
    {
      "cell_type": "code",
      "metadata": {
        "id": "dwRFZ1L1qQs9"
      },
      "source": [
        "! pip install -U spacy\n",
        "! python -m spacy download ru_core_news_lg"
      ],
      "execution_count": null,
      "outputs": []
    },
    {
      "cell_type": "code",
      "metadata": {
        "id": "PLThZK7s5aAV"
      },
      "source": [
        "import pytesseract\n",
        "from PIL import ImageEnhance, ImageFilter, Image"
      ],
      "execution_count": null,
      "outputs": []
    },
    {
      "cell_type": "code",
      "metadata": {
        "colab": {
          "base_uri": "https://localhost:8080/"
        },
        "id": "j8sjiBjA6wRi",
        "outputId": "a6e0a3da-6eb4-4654-d40e-318d4c04d423"
      },
      "source": [
        "fileName = r'/content/drive/MyDrive/documents_oiv_680_140915.jpg'\n",
        "imagedoc = Image.open(fileName,'r')\n",
        "text = pytesseract.image_to_string((imagedoc), lang='rus')\n",
        "print(text)"
      ],
      "execution_count": null,
      "outputs": [
        {
          "output_type": "stream",
          "name": "stdout",
          "text": [
            " \n",
            "\n",
            "МЭР МОСКВЫ\n",
            "РАСПОРЯЖЕНИЕ\n",
            "\n",
            "14 сентября 2015 г. М 680-РМ\n",
            "\n",
            "‘06 объявлении благодарности\n",
            "\n",
            "За большой вклад в развитие строительной отрасли города Мос-\n",
            "квы объявить благодарность:\n",
            "\n",
            "Газизов: - исполняющему обязанности генерального\n",
            "\n",
            "Дамиру Кутдусовичу директора казённого предприятия горо-\n",
            "да Москвы \"Управление гражданского\n",
            "строительства\";\n",
            "\n",
            "пареву главному специалисту Управления мони-\n",
            "ергею Александровичу торинга реализации решений в сфере\n",
            "традостроительной деятельности Госу-\n",
            "дарственного казенного учреждения го-\n",
            "рода Москвы \"Московский центр градо-\n",
            "строительного развития территорий\";\n",
            "\n",
            "Шишову - главному инженеру общества с огра-\n",
            "Андрею Александровичу ниченной ответственностью \"Главкап-\n",
            "строй\"\n",
            "\n",
            "С. С. Собянин\n",
            "\n",
            " \n",
            "\n",
            " \n",
            "\f\n"
          ]
        }
      ]
    },
    {
      "cell_type": "code",
      "metadata": {
        "id": "9dflG-FyRM_m"
      },
      "source": [
        "import spacy\n",
        "nlp = spacy.load('ru_core_news_lg')\n"
      ],
      "execution_count": null,
      "outputs": []
    },
    {
      "cell_type": "code",
      "metadata": {
        "id": "CtVqjAZjxYqE"
      },
      "source": [
        "from docx import Document\n",
        "import pypandoc"
      ],
      "execution_count": null,
      "outputs": []
    },
    {
      "cell_type": "code",
      "metadata": {
        "id": "_Mecoh-q5WoQ"
      },
      "source": [
        "#Вот так вот получается))\n",
        "from pathlib import Path\n",
        "filename = '/content/drive/MyDrive/documents_files_2264_NASAITGBY2018.docx'\n",
        "output = pypandoc.convert_file(filename, 'plain', outputfile='/content/drive/MyDrive/somefile.txt')\n",
        "assert output == \"\""
      ],
      "execution_count": null,
      "outputs": []
    },
    {
      "cell_type": "code",
      "metadata": {
        "colab": {
          "base_uri": "https://localhost:8080/",
          "height": 103
        },
        "id": "rEf0p5yg1Vev",
        "outputId": "0e8e07c0-74bd-4571-955a-ed9f5af0a79e"
      },
      "source": [
        "filename1 = '/content/drive/MyDrive/somefile.txt'\n",
        "file= Path(filename1).read_text()\n",
        "dtext=[text]\n",
        "strtex1=\"\".join(dtext)\n",
        "strtex1"
      ],
      "execution_count": null,
      "outputs": [
        {
          "output_type": "execute_result",
          "data": {
            "application/vnd.google.colaboratory.intrinsic+json": {
              "type": "string"
            },
            "text/plain": [
              "' \\n\\nМЭР МОСКВЫ\\nРАСПОРЯЖЕНИЕ\\n\\n14 сентября 2015 г. М 680-РМ\\n\\n‘06 объявлении благодарности\\n\\nЗа большой вклад в развитие строительной отрасли города Мос-\\nквы объявить благодарность:\\n\\nГазизов: - исполняющему обязанности генерального\\n\\nДамиру Кутдусовичу директора казённого предприятия горо-\\nда Москвы \"Управление гражданского\\nстроительства\";\\n\\nпареву главному специалисту Управления мони-\\nергею Александровичу торинга реализации решений в сфере\\nтрадостроительной деятельности Госу-\\nдарственного казенного учреждения го-\\nрода Москвы \"Московский центр градо-\\nстроительного развития территорий\";\\n\\nШишову - главному инженеру общества с огра-\\nАндрею Александровичу ниченной ответственностью \"Главкап-\\nстрой\"\\n\\nС. С. Собянин\\n\\n \\n\\n \\n\\x0c'"
            ]
          },
          "metadata": {},
          "execution_count": 69
        }
      ]
    },
    {
      "cell_type": "code",
      "metadata": {
        "colab": {
          "base_uri": "https://localhost:8080/"
        },
        "id": "PNUPkyUmdChi",
        "outputId": "7e562614-afa1-4bc6-e4be-8fca13df7e18"
      },
      "source": [
        "document= nlp(strtex1)\n",
        "for entity in document.ents:\n",
        "  print (f'{entity.text}:{entity.label_}')"
      ],
      "execution_count": null,
      "outputs": [
        {
          "output_type": "stream",
          "name": "stdout",
          "text": [
            "Мос-:LOC\n",
            "Дамиру Кутдусовичу:PER\n",
            "Москвы:LOC\n",
            "Управление гражданского\n",
            "строительства:ORG\n",
            "Управления:ORG\n",
            "Александровичу:PER\n",
            "Госу-\n",
            ":ORG\n",
            "го-\n",
            ":ORG\n",
            "Москвы:LOC\n",
            "Московский центр градо-\n",
            "строительного развития территорий:ORG\n",
            "Андрею Александровичу:PER\n",
            "Главкап-\n",
            "строй:ORG\n"
          ]
        }
      ]
    },
    {
      "cell_type": "code",
      "metadata": {
        "id": "Q9aO-cINyaZ_"
      },
      "source": [
        "from natasha import Segmenter\n",
        "from natasha import MorphVocab \n",
        "from natasha import NewsEmbedding\n",
        "from natasha import NewsMorphTagger\n",
        "from natasha import NewsSyntaxParser\n",
        "from natasha import NewsNERTagger\n",
        "from natasha import PER\n",
        "from natasha import NamesExtractor\n",
        "from natasha import Doc"
      ],
      "execution_count": null,
      "outputs": []
    },
    {
      "cell_type": "code",
      "metadata": {
        "colab": {
          "base_uri": "https://localhost:8080/"
        },
        "id": "B3X89_APyebV",
        "outputId": "5eb4dada-1dda-488a-af2d-6ce2e486c3a2"
      },
      "source": [
        "doc = Doc(strtex1)\n",
        "segmenter = Segmenter()\n",
        "doc.segment(segmenter)\n",
        "print(doc.tokens[:5])\n",
        "print(doc.sents[:5])"
      ],
      "execution_count": null,
      "outputs": [
        {
          "output_type": "stream",
          "name": "stdout",
          "text": [
            "[DocToken(start=3, stop=6, text='МЭР'), DocToken(start=7, stop=13, text='МОСКВЫ'), DocToken(start=14, stop=26, text='РАСПОРЯЖЕНИЕ'), DocToken(start=28, stop=30, text='14'), DocToken(start=31, stop=39, text='сентября')]\n",
            "[DocSent(start=3, stop=585, text='МЭР МОСКВЫ\\nРАСПОРЯЖЕНИЕ\\n\\n14 сентября 2015 г. М..., tokens=[...]), DocSent(start=587, stop=710, text='Шишову - главному инженеру общества с огра-\\nАндр..., tokens=[...])]\n"
          ]
        }
      ]
    },
    {
      "cell_type": "code",
      "metadata": {
        "colab": {
          "base_uri": "https://localhost:8080/"
        },
        "id": "MrU1YYJozfbv",
        "outputId": "9ca77ed3-6c56-47d6-f0f2-eaaee972c271"
      },
      "source": [
        "doc.tag_ner(ner_tagger)\n",
        "print(doc.spans[:5])\n",
        "doc.ner.print()"
      ],
      "execution_count": null,
      "outputs": [
        {
          "output_type": "stream",
          "name": "stdout",
          "text": [
            "[DocSpan(start=7, stop=13, type='LOC', text='МОСКВЫ', tokens=[...]), DocSpan(start=144, stop=148, type='LOC', text='Мос-', tokens=[...]), DocSpan(start=178, stop=185, type='PER', text='Газизов', tokens=[...]), DocSpan(start=228, stop=246, type='PER', text='Дамиру Кутдусовичу', tokens=[...]), DocSpan(start=288, stop=294, type='LOC', text='Москвы', tokens=[...])]\n",
            " \n",
            "МЭР МОСКВЫ\n",
            "    LOC───\n",
            "РАСПОРЯЖЕНИЕ\n",
            "14 сентября 2015 г. М 680-РМ\n",
            "‘06 объявлении благодарности\n",
            "За большой вклад в развитие строительной отрасли города Мос-\n",
            "                                                        LOC─\n",
            "квы объявить благодарность:\n",
            "Газизов: - исполняющему обязанности генерального\n",
            "PER────                                         \n",
            "Дамиру Кутдусовичу директора казённого предприятия горо-\n",
            "PER───────────────                                      \n",
            "да Москвы \"Управление гражданского\n",
            "   LOC───                         \n",
            "строительства\";\n",
            "пареву главному специалисту Управления мони-\n",
            "                            ORG─────────────\n",
            "ергею Александровичу торинга реализации решений в сфере\n",
            "      PER───────────                                   \n",
            "традостроительной деятельности Госу-\n",
            "                               ORG──\n",
            "дарственного казенного учреждения го-\n",
            "─────────────────────────────────────\n",
            "рода Москвы \"Московский центр градо-\n",
            "───────────  ORG────────────────────\n",
            "строительного развития территорий\";\n",
            "─────────────────────────────────  \n",
            "Шишову - главному инженеру общества с огра-\n",
            "PER───                                     \n",
            "Андрею Александровичу ниченной ответственностью \"Главкап-\n",
            "PER──────────────────                                    \n",
            "строй\"\n",
            "С. С. Собянин\n",
            "PER──────────\n",
            " \n",
            " \n",
            "\f\n"
          ]
        }
      ]
    },
    {
      "cell_type": "code",
      "metadata": {
        "colab": {
          "base_uri": "https://localhost:8080/"
        },
        "id": "MJJ_cnaCBVaQ",
        "outputId": "296ed49e-c16d-43de-cb9e-092d639106d0"
      },
      "source": [
        "morph_vocab = MorphVocab()\n",
        "emb = NewsEmbedding()\n",
        "ner_tagger = NewsNERTagger(emb)\n",
        "names_extractor = NamesExtractor(morph_vocab)\n",
        "spans = extractor(dtext)\n",
        "#for span in doc.spans:\n",
        "   #if span.type == PER:\n",
        "      # span.extract_fact(names_extractor)\n",
        "print(doc.spans[:5])\n",
        "#{_.normal: _.fact.as_dict for _ in doc.spans if _.type == PER}"
      ],
      "execution_count": null,
      "outputs": [
        {
          "output_type": "stream",
          "name": "stdout",
          "text": [
            "[DocSpan(start=7, stop=13, type='LOC', text='МОСКВЫ', tokens=[...]), DocSpan(start=144, stop=148, type='LOC', text='Мос-', tokens=[...]), DocSpan(start=178, stop=185, type='PER', text='Газизов', tokens=[...]), DocSpan(start=228, stop=246, type='PER', text='Дамиру Кутдусовичу', tokens=[...]), DocSpan(start=288, stop=294, type='LOC', text='Москвы', tokens=[...])]\n"
          ]
        }
      ]
    },
    {
      "cell_type": "code",
      "metadata": {
        "colab": {
          "base_uri": "https://localhost:8080/"
        },
        "id": "YGRwKxAoivE0",
        "outputId": "0dbf5a08-8dc7-46e7-cf51-ab33f4c97797"
      },
      "source": [
        "doc.spans"
      ],
      "execution_count": null,
      "outputs": [
        {
          "output_type": "execute_result",
          "data": {
            "text/plain": [
              "[DocSpan(start=7, stop=13, type='LOC', text='МОСКВЫ', tokens=[...]),\n",
              " DocSpan(start=144, stop=148, type='LOC', text='Мос-', tokens=[...]),\n",
              " DocSpan(start=178, stop=185, type='PER', text='Газизов', tokens=[...]),\n",
              " DocSpan(start=228, stop=246, type='PER', text='Дамиру Кутдусовичу', tokens=[...]),\n",
              " DocSpan(start=288, stop=294, type='LOC', text='Москвы', tokens=[...]),\n",
              " DocSpan(start=365, stop=381, type='ORG', text='Управления мони-', tokens=[...]),\n",
              " DocSpan(start=388, stop=402, type='PER', text='Александровичу', tokens=[...]),\n",
              " DocSpan(start=469, stop=524, type='ORG', text='Госу-\\nдарственного казенного учреждения го-\\nрод..., tokens=[...]),\n",
              " DocSpan(start=526, stop=583, type='ORG', text='Московский центр градо-\\nстроительного развития т..., tokens=[...]),\n",
              " DocSpan(start=587, stop=593, type='PER', text='Шишову', tokens=[...]),\n",
              " DocSpan(start=631, stop=652, type='PER', text='Андрею Александровичу', tokens=[...]),\n",
              " DocSpan(start=697, stop=710, type='PER', text='С. С. Собянин', tokens=[...])]"
            ]
          },
          "metadata": {},
          "execution_count": 90
        }
      ]
    },
    {
      "cell_type": "markdown",
      "metadata": {
        "id": "VWfCgZj-ymeL"
      },
      "source": [
        "**Для работы с pdf форматом использовали библиотеки PyPDF2 и fitz. Больше всего проблем возникло именно с ним**"
      ]
    },
    {
      "cell_type": "code",
      "metadata": {
        "id": "tcTr95w3yeW9"
      },
      "source": [
        ""
      ],
      "execution_count": null,
      "outputs": []
    }
  ]
}